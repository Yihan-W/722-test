{
 "cells": [
  {
   "cell_type": "code",
   "execution_count": 2,
   "id": "21f1648a",
   "metadata": {},
   "outputs": [],
   "source": [
    "# Must be included at the beginning of each new notebook. Remember to change the app name.\n",
    "import findspark\n",
    "findspark.init('/home/ubuntu/spark-3.2.1-bin-hadoop2.7')\n",
    "import pyspark\n",
    "from pyspark.sql import SparkSession\n",
    "#name \n",
    "spark = SparkSession.builder.appName('722 test-basics').getOrCreate()"
   ]
  },
  {
   "cell_type": "code",
   "execution_count": 3,
   "id": "5f209bac",
   "metadata": {},
   "outputs": [
    {
     "name": "stderr",
     "output_type": "stream",
     "text": [
      "                                                                                \r"
     ]
    }
   ],
   "source": [
    "# Let's read in the data. Note that it's in the format of JSON.\n",
    "df = spark.read.load(\"./data/yd.csv\",format = \"csv\",header=\"true\")"
   ]
  },
  {
   "cell_type": "code",
   "execution_count": 4,
   "id": "6b113568",
   "metadata": {},
   "outputs": [
    {
     "name": "stdout",
     "output_type": "stream",
     "text": [
      "+-----------+------+------------+-----------+------------+-------+---------+-----+---------+----+-----+-----------+\n",
      "|Domain Code|Domain|Country Code|    country|Element Code|Element|Item Code| Item|Year Code|year| Unit|Yield Value|\n",
      "+-----------+------+------------+-----------+------------+-------+---------+-----+---------+----+-----+-----------+\n",
      "|         QC| Crops|           2|Afghanistan|        5419|  Yield|       56|Maize|     1961|1961|hg/ha|      14000|\n",
      "|         QC| Crops|           2|Afghanistan|        5419|  Yield|       56|Maize|     1962|1962|hg/ha|      14000|\n",
      "|         QC| Crops|           2|Afghanistan|        5419|  Yield|       56|Maize|     1963|1963|hg/ha|      14260|\n",
      "|         QC| Crops|           2|Afghanistan|        5419|  Yield|       56|Maize|     1964|1964|hg/ha|      14257|\n",
      "|         QC| Crops|           2|Afghanistan|        5419|  Yield|       56|Maize|     1965|1965|hg/ha|      14400|\n",
      "|         QC| Crops|           2|Afghanistan|        5419|  Yield|       56|Maize|     1966|1966|hg/ha|      14400|\n",
      "|         QC| Crops|           2|Afghanistan|        5419|  Yield|       56|Maize|     1967|1967|hg/ha|      14144|\n",
      "|         QC| Crops|           2|Afghanistan|        5419|  Yield|       56|Maize|     1968|1968|hg/ha|      17064|\n",
      "|         QC| Crops|           2|Afghanistan|        5419|  Yield|       56|Maize|     1969|1969|hg/ha|      17177|\n",
      "|         QC| Crops|           2|Afghanistan|        5419|  Yield|       56|Maize|     1970|1970|hg/ha|      14757|\n",
      "|         QC| Crops|           2|Afghanistan|        5419|  Yield|       56|Maize|     1971|1971|hg/ha|      13400|\n",
      "|         QC| Crops|           2|Afghanistan|        5419|  Yield|       56|Maize|     1972|1972|hg/ha|      15652|\n",
      "|         QC| Crops|           2|Afghanistan|        5419|  Yield|       56|Maize|     1973|1973|hg/ha|      16170|\n",
      "|         QC| Crops|           2|Afghanistan|        5419|  Yield|       56|Maize|     1974|1974|hg/ha|      16170|\n",
      "|         QC| Crops|           2|Afghanistan|        5419|  Yield|       56|Maize|     1975|1975|hg/ha|      16116|\n",
      "|         QC| Crops|           2|Afghanistan|        5419|  Yield|       56|Maize|     1976|1976|hg/ha|      16598|\n",
      "|         QC| Crops|           2|Afghanistan|        5419|  Yield|       56|Maize|     1977|1977|hg/ha|      15833|\n",
      "|         QC| Crops|           2|Afghanistan|        5419|  Yield|       56|Maize|     1978|1978|hg/ha|      16183|\n",
      "|         QC| Crops|           2|Afghanistan|        5419|  Yield|       56|Maize|     1979|1979|hg/ha|      16102|\n",
      "|         QC| Crops|           2|Afghanistan|        5419|  Yield|       56|Maize|     1980|1980|hg/ha|      16711|\n",
      "+-----------+------+------------+-----------+------------+-------+---------+-----+---------+----+-----+-----------+\n",
      "only showing top 20 rows\n",
      "\n"
     ]
    }
   ],
   "source": [
    "df.show()"
   ]
  },
  {
   "cell_type": "code",
   "execution_count": 7,
   "id": "2d089c3c",
   "metadata": {},
   "outputs": [
    {
     "data": {
      "text/plain": [
       "['Domain Code',\n",
       " 'Domain',\n",
       " 'Country Code',\n",
       " 'country',\n",
       " 'Element Code',\n",
       " 'Element',\n",
       " 'Item Code',\n",
       " 'Item',\n",
       " 'Year Code',\n",
       " 'year',\n",
       " 'Unit',\n",
       " 'Yield Value']"
      ]
     },
     "execution_count": 7,
     "metadata": {},
     "output_type": "execute_result"
    }
   ],
   "source": [
    "df.columns"
   ]
  },
  {
   "cell_type": "code",
   "execution_count": 8,
   "id": "c860cfe2",
   "metadata": {},
   "outputs": [
    {
     "name": "stderr",
     "output_type": "stream",
     "text": [
      "\r",
      "[Stage 2:>                                                          (0 + 1) / 1]\r"
     ]
    },
    {
     "name": "stdout",
     "output_type": "stream",
     "text": [
      "+-------+-----------+------+------------------+--------------+------------+-------+------------------+-------+-----------------+-----------------+-----+-----------------+\n",
      "|summary|Domain Code|Domain|      Country Code|       country|Element Code|Element|         Item Code|   Item|        Year Code|             year| Unit|      Yield Value|\n",
      "+-------+-----------+------+------------------+--------------+------------+-------+------------------+-------+-----------------+-----------------+-----+-----------------+\n",
      "|  count|      56717| 56717|             56717|         56717|       56717|  56717|             56717|  56717|            56717|            56717|56717|            56717|\n",
      "|   mean|       null|  null|125.65042227198195|          null|      5419.0|   null|111.61165082779414|   null|1989.669569970203|1989.669569970203| null|62094.66008427808|\n",
      "| stddev|       null|  null| 75.12019495452651|          null|         0.0|   null|101.27843534146328|   null|16.13319773965858|16.13319773965858| null|67835.93285591135|\n",
      "|    min|         QC| Crops|                 1| cote d ivoire|        5419|  Yield|               116|Cassava|             1961|             1961|hg/ha|                0|\n",
      "|    max|         QC| Crops|                99|      Zimbabwe|        5419|  Yield|                83|   Yams|             2016|             2016|hg/ha|            99995|\n",
      "+-------+-----------+------+------------------+--------------+------------+-------+------------------+-------+-----------------+-----------------+-----+-----------------+\n",
      "\n"
     ]
    },
    {
     "name": "stderr",
     "output_type": "stream",
     "text": [
      "\r",
      "[Stage 4:>                                                          (0 + 1) / 1]\r",
      "\r",
      "                                                                                \r"
     ]
    }
   ],
   "source": [
    "df.describe().show()"
   ]
  },
  {
   "cell_type": "code",
   "execution_count": 9,
   "id": "b11b1648",
   "metadata": {},
   "outputs": [
    {
     "name": "stdout",
     "output_type": "stream",
     "text": [
      "root\n",
      " |-- Domain Code: string (nullable = true)\n",
      " |-- Domain: string (nullable = true)\n",
      " |-- Country Code: string (nullable = true)\n",
      " |-- country: string (nullable = true)\n",
      " |-- Element Code: string (nullable = true)\n",
      " |-- Element: string (nullable = true)\n",
      " |-- Item Code: string (nullable = true)\n",
      " |-- Item: string (nullable = true)\n",
      " |-- Year Code: string (nullable = true)\n",
      " |-- year: string (nullable = true)\n",
      " |-- Unit: string (nullable = true)\n",
      " |-- Yield Value: string (nullable = true)\n",
      "\n"
     ]
    }
   ],
   "source": [
    "df.printSchema()"
   ]
  },
  {
   "cell_type": "code",
   "execution_count": 10,
   "id": "1eb5761d",
   "metadata": {},
   "outputs": [],
   "source": [
    "# Let's import in the relevant types.\n",
    "from pyspark.sql.types import (StructField,StringType,IntegerType,StructType)"
   ]
  },
  {
   "cell_type": "code",
   "execution_count": null,
   "id": "8b6a2f0c",
   "metadata": {},
   "outputs": [],
   "source": []
  }
 ],
 "metadata": {
  "kernelspec": {
   "display_name": "Python 3 (ipykernel)",
   "language": "python",
   "name": "python3"
  },
  "language_info": {
   "codemirror_mode": {
    "name": "ipython",
    "version": 3
   },
   "file_extension": ".py",
   "mimetype": "text/x-python",
   "name": "python",
   "nbconvert_exporter": "python",
   "pygments_lexer": "ipython3",
   "version": "3.10.4"
  }
 },
 "nbformat": 4,
 "nbformat_minor": 5
}
